{
 "cells": [
  {
   "cell_type": "code",
   "execution_count": 1,
   "metadata": {},
   "outputs": [
    {
     "name": "stdout",
     "output_type": "stream",
     "text": [
      "Requirement already satisfied: numpy in /opt/anaconda3/envs/vedadet/lib/python3.8/site-packages (1.21.2)\n"
     ]
    }
   ],
   "source": [
    "!pip install numpy\n",
    "import numpy as np"
   ]
  },
  {
   "cell_type": "code",
   "execution_count": 3,
   "metadata": {},
   "outputs": [],
   "source": [
    "def print_obj(obj, name):\n",
    "    print(\"%s:\\n%s\\n\" % (name, obj))\n",
    "    \n",
    "def check_each(a, b):\n",
    "    return (a == b).astype('bool')\n",
    "\n",
    "def check_mean(a, b):\n",
    "    return np.mean(a == b).astype('bool')"
   ]
  },
  {
   "cell_type": "code",
   "execution_count": 2,
   "metadata": {},
   "outputs": [],
   "source": [
    "a = np.array(1.)\n",
    "b = np.array([1.,2.,3.])\n",
    "c = np.array([[1.,2.,3.],[4.,5.,6.]])"
   ]
  },
  {
   "cell_type": "code",
   "execution_count": 4,
   "metadata": {},
   "outputs": [
    {
     "name": "stdout",
     "output_type": "stream",
     "text": [
      "a:\n",
      "1.0\n",
      "\n",
      "b:\n",
      "[1. 2. 3.]\n",
      "\n",
      "c:\n",
      "[[1. 2. 3.]\n",
      " [4. 5. 6.]]\n",
      "\n"
     ]
    }
   ],
   "source": [
    "print_obj(a, \"a\")\n",
    "print_obj(b, \"b\")\n",
    "print_obj(c, \"c\")"
   ]
  },
  {
   "cell_type": "code",
   "execution_count": 6,
   "metadata": {},
   "outputs": [
    {
     "name": "stdout",
     "output_type": "stream",
     "text": [
      "a:\n",
      "0\n",
      "\n",
      "b:\n",
      "1\n",
      "\n",
      "c:\n",
      "2\n",
      "\n"
     ]
    }
   ],
   "source": [
    "print_obj(a.ndim, \"a\")\n",
    "print_obj(b.ndim, \"b\")\n",
    "print_obj(c.ndim, \"c\")"
   ]
  },
  {
   "cell_type": "code",
   "execution_count": 9,
   "metadata": {},
   "outputs": [
    {
     "name": "stdout",
     "output_type": "stream",
     "text": [
      "a:\n",
      "()\n",
      "\n",
      "b:\n",
      "(3,)\n",
      "\n",
      "c:\n",
      "(2, 3)\n",
      "\n",
      "c:\n",
      "2\n",
      "\n"
     ]
    }
   ],
   "source": [
    "print_obj(a.shape, \"a\")\n",
    "print_obj(b.shape, \"b\")\n",
    "print_obj(c.shape, \"c\")\n",
    "print_obj(c.shape[0], \"c\")"
   ]
  },
  {
   "cell_type": "code",
   "execution_count": 11,
   "metadata": {},
   "outputs": [],
   "source": [
    "d = np.array([[[1.,2.,3.],[4.,5.,6.]],[[7.,8.,9.],[10.,11.,12.]]])\n",
    "e = np.array([[[[1.,2.,3.],[4.,5.,6.]],[[7.,8.,9.],[10.,11.,12.]]],[[[7.,8.,9.],[10.,11.,12.]],[[10.,11.,12.],[10.,11.,12.]]]])"
   ]
  },
  {
   "cell_type": "code",
   "execution_count": 13,
   "metadata": {},
   "outputs": [
    {
     "name": "stdout",
     "output_type": "stream",
     "text": [
      "d:\n",
      "[[[ 1.  2.  3.]\n",
      "  [ 4.  5.  6.]]\n",
      "\n",
      " [[ 7.  8.  9.]\n",
      "  [10. 11. 12.]]]\n",
      "\n",
      "d.ndim:\n",
      "3\n",
      "\n",
      "d.shape:\n",
      "(2, 2, 3)\n",
      "\n"
     ]
    }
   ],
   "source": [
    "print_obj(d, \"d\")\n",
    "print_obj(d.ndim,\"d.ndim\")\n",
    "print_obj(d.shape, \"d.shape\")"
   ]
  },
  {
   "cell_type": "code",
   "execution_count": 14,
   "metadata": {},
   "outputs": [
    {
     "name": "stdout",
     "output_type": "stream",
     "text": [
      "e:\n",
      "[[[[ 1.  2.  3.]\n",
      "   [ 4.  5.  6.]]\n",
      "\n",
      "  [[ 7.  8.  9.]\n",
      "   [10. 11. 12.]]]\n",
      "\n",
      "\n",
      " [[[ 7.  8.  9.]\n",
      "   [10. 11. 12.]]\n",
      "\n",
      "  [[10. 11. 12.]\n",
      "   [10. 11. 12.]]]]\n",
      "\n",
      "e.ndim:\n",
      "4\n",
      "\n",
      "e.shape:\n",
      "(2, 2, 2, 3)\n",
      "\n"
     ]
    }
   ],
   "source": [
    "print_obj(e, \"e\")\n",
    "print_obj(e.ndim,\"e.ndim\")\n",
    "print_obj(e.shape, \"e.shape\")"
   ]
  },
  {
   "cell_type": "code",
   "execution_count": 17,
   "metadata": {},
   "outputs": [
    {
     "name": "stdout",
     "output_type": "stream",
     "text": [
      "[[[1]\n",
      "  [2]\n",
      "  [3]]\n",
      "\n",
      " [[4]\n",
      "  [5]\n",
      "  [6]]]\n",
      "(2, 3, 1)\n"
     ]
    }
   ],
   "source": [
    "a1 = np.array([[[1],[2],[3]],[[4],[5],[6]]])\n",
    "print(a1)\n",
    "print(a1.shape)"
   ]
  },
  {
   "cell_type": "code",
   "execution_count": 18,
   "metadata": {},
   "outputs": [
    {
     "data": {
      "text/plain": [
       "array([1., 1., 1., 1., 1., 1., 1., 1., 1., 1.])"
      ]
     },
     "execution_count": 18,
     "metadata": {},
     "output_type": "execute_result"
    }
   ],
   "source": [
    "a = np.ones(10)\n",
    "a"
   ]
  },
  {
   "cell_type": "code",
   "execution_count": 19,
   "metadata": {},
   "outputs": [
    {
     "data": {
      "text/plain": [
       "array([[0., 0., 0., 0., 0.],\n",
       "       [0., 0., 0., 0., 0.]])"
      ]
     },
     "execution_count": 19,
     "metadata": {},
     "output_type": "execute_result"
    }
   ],
   "source": [
    "a = np.zeros((2,5))\n",
    "a"
   ]
  },
  {
   "cell_type": "code",
   "execution_count": 21,
   "metadata": {},
   "outputs": [
    {
     "data": {
      "text/plain": [
       "array([[5, 5, 5, 5, 5],\n",
       "       [5, 5, 5, 5, 5]])"
      ]
     },
     "execution_count": 21,
     "metadata": {},
     "output_type": "execute_result"
    }
   ],
   "source": [
    "a = np.full((2,5),5)\n",
    "a"
   ]
  },
  {
   "cell_type": "code",
   "execution_count": 22,
   "metadata": {},
   "outputs": [
    {
     "data": {
      "text/plain": [
       "array([[[0.24504975, 0.52288789, 0.87283467, 0.85598525],\n",
       "        [0.88050798, 0.23498962, 0.46866567, 0.70629912],\n",
       "        [0.81068682, 0.08909415, 0.98480727, 0.54141373]],\n",
       "\n",
       "       [[0.99692194, 0.49980698, 0.28244766, 0.35459952],\n",
       "        [0.11441828, 0.41608623, 0.28729668, 0.47883456],\n",
       "        [0.95605347, 0.58187168, 0.09490641, 0.34162185]]])"
      ]
     },
     "execution_count": 22,
     "metadata": {},
     "output_type": "execute_result"
    }
   ],
   "source": [
    "a = np.random.random((2,3,4))\n",
    "a"
   ]
  },
  {
   "cell_type": "code",
   "execution_count": 23,
   "metadata": {},
   "outputs": [
    {
     "data": {
      "text/plain": [
       "array([0, 1, 2, 3, 4, 5, 6, 7, 8, 9])"
      ]
     },
     "execution_count": 23,
     "metadata": {},
     "output_type": "execute_result"
    }
   ],
   "source": [
    "a = np.arange(10)\n",
    "a"
   ]
  },
  {
   "cell_type": "code",
   "execution_count": 28,
   "metadata": {},
   "outputs": [
    {
     "data": {
      "text/plain": [
       "(10,)"
      ]
     },
     "execution_count": 28,
     "metadata": {},
     "output_type": "execute_result"
    }
   ],
   "source": [
    "a = np.arange(10).astype(float)\n",
    "a.shape"
   ]
  },
  {
   "cell_type": "code",
   "execution_count": 30,
   "metadata": {},
   "outputs": [
    {
     "data": {
      "text/plain": [
       "array([[0, 1],\n",
       "       [2, 3],\n",
       "       [4, 5],\n",
       "       [6, 7],\n",
       "       [8, 9]])"
      ]
     },
     "execution_count": 30,
     "metadata": {},
     "output_type": "execute_result"
    }
   ],
   "source": [
    "a = np.arange(10).reshape(((5,2)))\n",
    "a"
   ]
  },
  {
   "cell_type": "code",
   "execution_count": 32,
   "metadata": {},
   "outputs": [
    {
     "data": {
      "text/plain": [
       "array([[[ 0,  1],\n",
       "        [ 2,  3],\n",
       "        [ 4,  5]],\n",
       "\n",
       "       [[ 6,  7],\n",
       "        [ 8,  9],\n",
       "        [10, 11]],\n",
       "\n",
       "       [[12, 13],\n",
       "        [14, 15],\n",
       "        [16, 17]],\n",
       "\n",
       "       [[18, 19],\n",
       "        [20, 21],\n",
       "        [22, 23]]])"
      ]
     },
     "execution_count": 32,
     "metadata": {},
     "output_type": "execute_result"
    }
   ],
   "source": [
    "b = np.arange(24).reshape(((4,3,2)))\n",
    "b"
   ]
  },
  {
   "cell_type": "code",
   "execution_count": 41,
   "metadata": {},
   "outputs": [
    {
     "name": "stdout",
     "output_type": "stream",
     "text": [
      "a:\n",
      "[0 1 2 3 4 5 6 7 8 9]\n",
      "\n",
      "a[0]:\n",
      "0\n",
      "\n",
      "a[1]:\n",
      "1\n",
      "\n",
      "a[-1]:\n",
      "9\n",
      "\n",
      "a[-3]:\n",
      "7\n",
      "\n",
      "a[0:10]:\n",
      "[0 1 2 3 4 5 6 7 8 9]\n",
      "\n",
      "a[0:]:\n",
      "[0 1 2 3 4 5 6 7 8 9]\n",
      "\n",
      "a[:]:\n",
      "[0 1 2 3 4 5 6 7 8 9]\n",
      "\n",
      "a[:10]:\n",
      "[0 1 2 3 4 5 6 7 8 9]\n",
      "\n",
      "a[-4::\n",
      "[6 7 8 9]\n",
      "\n"
     ]
    }
   ],
   "source": [
    "a = np.arange(10)\n",
    "print_obj(a,\"a\")\n",
    "print_obj(a[0],\"a[0]\")\n",
    "print_obj(a[1],\"a[1]\")\n",
    "print_obj(a[-1],\"a[-1]\")\n",
    "print_obj(a[-3],\"a[-3]\")\n",
    "\n",
    "\n",
    "print_obj(a[0:10], \"a[0:10]\")\n",
    "print_obj(a[0:],\"a[0:]\")\n",
    "print_obj(a[:],\"a[:]\")\n",
    "print_obj(a[:10], \"a[:10]\")"
   ]
  },
  {
   "cell_type": "code",
   "execution_count": 61,
   "metadata": {},
   "outputs": [
    {
     "name": "stdout",
     "output_type": "stream",
     "text": [
      "a[-4:]:\n",
      "[6 7 8 9]\n",
      "\n",
      "a[:-8]:\n",
      "[0 1]\n",
      "\n"
     ]
    }
   ],
   "source": [
    "print_obj(a[-4:],\"a[-4:]\")\n",
    "print_obj(a[:-8],\"a[:-8]\")\n"
   ]
  },
  {
   "cell_type": "code",
   "execution_count": 45,
   "metadata": {},
   "outputs": [
    {
     "name": "stdout",
     "output_type": "stream",
     "text": [
      "a[7:]:\n",
      "[7 8 9]\n",
      "\n",
      "a[:5]:\n",
      "[0 1 2 3 4]\n",
      "\n",
      "a[2:5]:\n",
      "[2 3 4]\n",
      "\n"
     ]
    }
   ],
   "source": [
    "print_obj(a[7:],\"a[7:]\")\n",
    "print_obj(a[:5],\"a[:5]\")\n",
    "print_obj(a[2:5],\"a[2:5]\")\n",
    "\n",
    "\n"
   ]
  },
  {
   "cell_type": "code",
   "execution_count": 47,
   "metadata": {},
   "outputs": [
    {
     "name": "stdout",
     "output_type": "stream",
     "text": [
      "a[0:10:2]:\n",
      "[0 2 4 6 8]\n",
      "\n",
      "a[0:10:3]:\n",
      "[0 3 6 9]\n",
      "\n",
      "a[2:6:3]:\n",
      "[2 5]\n",
      "\n"
     ]
    }
   ],
   "source": [
    "print_obj(a[0:10:2],\"a[0:10:2]\")\n",
    "print_obj(a[0:10:3],\"a[0:10:3]\")\n",
    "print_obj(a[2:6:3],\"a[2:6:3]\")"
   ]
  },
  {
   "cell_type": "code",
   "execution_count": 50,
   "metadata": {},
   "outputs": [
    {
     "name": "stdout",
     "output_type": "stream",
     "text": [
      "a[::-1]:\n",
      "[9 8 7 6 5 4 3 2 1 0]\n",
      "\n",
      "a[8:5:-1]:\n",
      "[8 7 6]\n",
      "\n",
      "a[8:5]:\n",
      "[]\n",
      "\n"
     ]
    }
   ],
   "source": [
    "print_obj(a[::-1],\"a[::-1]\")\n",
    "print_obj(a[8:5:-1],\"a[8:5:-1]\")\n",
    "print_obj(a[8:5],\"a[8:5]\")"
   ]
  },
  {
   "cell_type": "code",
   "execution_count": 57,
   "metadata": {},
   "outputs": [
    {
     "name": "stdout",
     "output_type": "stream",
     "text": [
      "a[10:0:-3]:\n",
      "[9 6 3]\n",
      "\n"
     ]
    }
   ],
   "source": [
    "print_obj(a[10:0:-3],\"a[10:0:-3]\")"
   ]
  },
  {
   "cell_type": "code",
   "execution_count": 60,
   "metadata": {},
   "outputs": [
    {
     "name": "stdout",
     "output_type": "stream",
     "text": [
      "[9 6 3] a\n"
     ]
    }
   ],
   "source": [
    "print(a[10:0:-3],\"a\")"
   ]
  },
  {
   "cell_type": "code",
   "execution_count": 63,
   "metadata": {},
   "outputs": [
    {
     "name": "stdout",
     "output_type": "stream",
     "text": [
      "a:\n",
      "[[0 1 2]\n",
      " [3 4 5]\n",
      " [6 7 8]]\n",
      "\n"
     ]
    }
   ],
   "source": [
    "a = np.arange(9).reshape((3,3))\n",
    "print_obj(a[10:0:-3],\"a[10:0:-3]\")\n"
   ]
  },
  {
   "cell_type": "code",
   "execution_count": 69,
   "metadata": {},
   "outputs": [
    {
     "name": "stdout",
     "output_type": "stream",
     "text": [
      "a:\n",
      "0\n",
      "\n",
      "a:\n",
      "0\n",
      "\n",
      "a:\n",
      "4\n",
      "\n"
     ]
    }
   ],
   "source": [
    "print_obj(a[0][0],\"a\")\n",
    "print_obj(a[0,0],\"a\")\n",
    "print_obj(a[1,1],\"a\")"
   ]
  },
  {
   "cell_type": "code",
   "execution_count": 79,
   "metadata": {},
   "outputs": [
    {
     "name": "stdout",
     "output_type": "stream",
     "text": [
      "a:\n",
      "[6 7 8]\n",
      "\n",
      "a:\n",
      "[1 4 7]\n",
      "\n",
      "a:\n",
      "[8 5]\n",
      "\n"
     ]
    }
   ],
   "source": [
    "print_obj(a[-1],\"a\")\n",
    "print_obj(a[:,1],\"a\")\n",
    "print_obj(a[2:0:-1,2],\"a\")"
   ]
  },
  {
   "cell_type": "code",
   "execution_count": 81,
   "metadata": {},
   "outputs": [
    {
     "name": "stdout",
     "output_type": "stream",
     "text": [
      "a:\n",
      "[[[ 0  1]\n",
      "  [ 2  3]\n",
      "  [ 4  5]]\n",
      "\n",
      " [[ 6  7]\n",
      "  [ 8  9]\n",
      "  [10 11]]\n",
      "\n",
      " [[12 13]\n",
      "  [14 15]\n",
      "  [16 17]]\n",
      "\n",
      " [[18 19]\n",
      "  [20 21]\n",
      "  [22 23]]]\n",
      "\n",
      "a:\n",
      "14\n",
      "\n"
     ]
    }
   ],
   "source": [
    "a = np.arange(4*3*2).reshape((4,3,2))\n",
    "print_obj(a,\"a\")\n",
    "print_obj(a[2,1,0],\"a\")"
   ]
  },
  {
   "cell_type": "code",
   "execution_count": 83,
   "metadata": {},
   "outputs": [
    {
     "name": "stdout",
     "output_type": "stream",
     "text": [
      "a:\n",
      "[2 3]\n",
      "\n"
     ]
    }
   ],
   "source": [
    "print_obj(a[0,1],\"a\")"
   ]
  },
  {
   "cell_type": "code",
   "execution_count": 97,
   "metadata": {},
   "outputs": [
    {
     "name": "stdout",
     "output_type": "stream",
     "text": [
      "a:\n",
      "[[ 0  2  4]\n",
      " [ 6  8 10]]\n",
      "\n"
     ]
    }
   ],
   "source": [
    "print_obj(a[0:2,:,0],\"a\")"
   ]
  },
  {
   "cell_type": "code",
   "execution_count": 100,
   "metadata": {},
   "outputs": [
    {
     "name": "stdout",
     "output_type": "stream",
     "text": [
      "a:\n",
      "[[0 1]\n",
      " [2 3]\n",
      " [4 5]]\n",
      "\n",
      "[[ True False]\n",
      " [ True False]\n",
      " [ True False]]\n",
      "[0 2 4]\n"
     ]
    }
   ],
   "source": [
    "a =np.arange(3*2).reshape((3,2))\n",
    "print_obj(a,\"a\")\n",
    "\n",
    "idx = a % 2 == 0\n",
    "print(idx)\n",
    "\n",
    "print(a[idx])\n",
    "\n"
   ]
  },
  {
   "cell_type": "code",
   "execution_count": 103,
   "metadata": {},
   "outputs": [
    {
     "name": "stdout",
     "output_type": "stream",
     "text": [
      "a:\n",
      "[[ 0  1  2  3]\n",
      " [ 4  5  6  7]\n",
      " [ 8  9 10 11]\n",
      " [12 13 14 15]\n",
      " [16 17 18 19]\n",
      " [20 21 22 23]]\n",
      "\n",
      "a:\n",
      "[[ 0  2  3]\n",
      " [ 4  6  7]\n",
      " [ 8 10 11]\n",
      " [12 14 15]\n",
      " [16 18 19]\n",
      " [20 22 23]]\n",
      "\n",
      "a:\n",
      "[[ 0  1  2  3]\n",
      " [ 8  9 10 11]\n",
      " [12 13 14 15]]\n",
      "\n"
     ]
    }
   ],
   "source": [
    "a = np.arange(24).reshape((6,4))\n",
    "print_obj(a,\"a\")\n",
    "\n",
    "print_obj(a[:,[0,2,3]],\"a\")\n",
    "print_obj(a[[0,2,3],:],\"a\")"
   ]
  },
  {
   "cell_type": "code",
   "execution_count": 105,
   "metadata": {},
   "outputs": [
    {
     "name": "stdout",
     "output_type": "stream",
     "text": [
      "a:\n",
      "[ 1  2  4 23]\n",
      "\n"
     ]
    }
   ],
   "source": [
    "idx = ((0,0,1,5),(1,2,0,3))\n",
    "print_obj(a[idx],\"a\")"
   ]
  },
  {
   "cell_type": "code",
   "execution_count": 107,
   "metadata": {},
   "outputs": [
    {
     "name": "stdout",
     "output_type": "stream",
     "text": [
      "a:\n",
      "[[[ 0  1  2  3]\n",
      "  [ 0  1  2  3]\n",
      "  [ 4  5  6  7]\n",
      "  [20 21 22 23]]\n",
      "\n",
      " [[ 4  5  6  7]\n",
      "  [ 8  9 10 11]\n",
      "  [ 0  1  2  3]\n",
      "  [12 13 14 15]]]\n",
      "\n"
     ]
    }
   ],
   "source": [
    "idx1 = np.array([[0,0,1,5],[1,2,0,3]])\n",
    "print_obj(a[idx1],\"a\")"
   ]
  },
  {
   "cell_type": "code",
   "execution_count": 108,
   "metadata": {},
   "outputs": [
    {
     "name": "stdout",
     "output_type": "stream",
     "text": [
      "a:\n",
      "[[0 1]\n",
      " [2 3]\n",
      " [4 5]]\n",
      "\n",
      "b:\n",
      "[[1. 1.]\n",
      " [1. 1.]\n",
      " [1. 1.]]\n",
      "\n"
     ]
    }
   ],
   "source": [
    "a = np.arange(6).reshape((3,2))\n",
    "b = np.ones((3,2))\n",
    "print_obj(a,\"a\")\n",
    "print_obj(b,\"b\")"
   ]
  },
  {
   "cell_type": "code",
   "execution_count": 109,
   "metadata": {},
   "outputs": [
    {
     "name": "stdout",
     "output_type": "stream",
     "text": [
      "a+b:\n",
      "[[1. 2.]\n",
      " [3. 4.]\n",
      " [5. 6.]]\n",
      "\n",
      "a-b:\n",
      "[[-1.  0.]\n",
      " [ 1.  2.]\n",
      " [ 3.  4.]]\n",
      "\n",
      "a*b:\n",
      "[[0. 1.]\n",
      " [2. 3.]\n",
      " [4. 5.]]\n",
      "\n",
      "a/b:\n",
      "[[0. 1.]\n",
      " [2. 3.]\n",
      " [4. 5.]]\n",
      "\n"
     ]
    }
   ],
   "source": [
    "print_obj(a+b, \"a+b\")\n",
    "print_obj(a-b, \"a-b\")\n",
    "print_obj(a*b, \"a*b\")\n",
    "print_obj(a/b, \"a/b\")"
   ]
  },
  {
   "cell_type": "code",
   "execution_count": 110,
   "metadata": {},
   "outputs": [
    {
     "name": "stdout",
     "output_type": "stream",
     "text": [
      "a.sum(:\n",
      "15\n",
      "\n",
      "a:\n",
      "[6 9]\n",
      "\n",
      "a:\n",
      "[1 5 9]\n",
      "\n"
     ]
    }
   ],
   "source": [
    "print_obj(a.sum(),\"a.sum(\")\n",
    "print_obj(a.sum(axis=0),\"a\")\n",
    "print_obj(a.sum(axis=1),\"a\")"
   ]
  },
  {
   "cell_type": "code",
   "execution_count": 111,
   "metadata": {},
   "outputs": [
    {
     "name": "stdout",
     "output_type": "stream",
     "text": [
      "a:\n",
      "2.5\n",
      "\n",
      "a:\n",
      "5\n",
      "\n",
      "a:\n",
      "0\n",
      "\n"
     ]
    }
   ],
   "source": [
    "print_obj(a.mean(),\"a\")\n",
    "print_obj(a.max(),\"a\")\n",
    "print_obj(a.min(),\"a\")"
   ]
  },
  {
   "cell_type": "code",
   "execution_count": 115,
   "metadata": {},
   "outputs": [
    {
     "name": "stdout",
     "output_type": "stream",
     "text": [
      "[[[ 0  1  2  3]\n",
      "  [ 4  5  6  7]\n",
      "  [ 8  9 10 11]]\n",
      "\n",
      " [[12 13 14 15]\n",
      "  [16 17 18 19]\n",
      "  [20 21 22 23]]]\n"
     ]
    }
   ],
   "source": [
    "a1 = np.arange(24).reshape((2,3,4))\n",
    "print(a1)"
   ]
  },
  {
   "cell_type": "code",
   "execution_count": 118,
   "metadata": {},
   "outputs": [
    {
     "name": "stdout",
     "output_type": "stream",
     "text": [
      "46.0\n"
     ]
    }
   ],
   "source": [
    "a = np.arange(24).reshape((2,3,4)).sum(axis=-1).mean()\n",
    "print(a)"
   ]
  },
  {
   "cell_type": "code",
   "execution_count": 119,
   "metadata": {},
   "outputs": [
    {
     "name": "stdout",
     "output_type": "stream",
     "text": [
      "a:\n",
      "[0. 1. 2.]\n",
      "\n",
      "b:\n",
      "[1. 1. 1.]\n",
      "\n"
     ]
    }
   ],
   "source": [
    "a = np.arange(3).astype('float')\n",
    "b = np.ones(3)\n",
    "print_obj(a,\"a\")\n",
    "print_obj(b,\"b\")"
   ]
  },
  {
   "cell_type": "code",
   "execution_count": 120,
   "metadata": {},
   "outputs": [
    {
     "name": "stdout",
     "output_type": "stream",
     "text": [
      "dot a,b:\n",
      "3.0\n",
      "\n"
     ]
    }
   ],
   "source": [
    "print_obj(np.dot(a,b),\"dot a,b\")"
   ]
  },
  {
   "cell_type": "code",
   "execution_count": 121,
   "metadata": {},
   "outputs": [
    {
     "name": "stdout",
     "output_type": "stream",
     "text": [
      "a:\n",
      "[[0 1]\n",
      " [2 3]\n",
      " [4 5]]\n",
      "\n",
      "b:\n",
      "[[1. 1. 1.]\n",
      " [1. 1. 1.]]\n",
      "\n"
     ]
    }
   ],
   "source": [
    "a = np.arange(6).reshape((3,2))\n",
    "b = np.ones((2,3))\n",
    "print_obj(a, \"a\")\n",
    "print_obj(b, \"b\")"
   ]
  },
  {
   "cell_type": "code",
   "execution_count": 122,
   "metadata": {},
   "outputs": [
    {
     "name": "stdout",
     "output_type": "stream",
     "text": [
      "dot a,b:\n",
      "[[1. 1. 1.]\n",
      " [5. 5. 5.]\n",
      " [9. 9. 9.]]\n",
      "\n",
      "a@b:\n",
      "[[1. 1. 1.]\n",
      " [5. 5. 5.]\n",
      " [9. 9. 9.]]\n",
      "\n"
     ]
    }
   ],
   "source": [
    "print_obj(np.dot(a,b),\"dot a,b\")\n",
    "print_obj(a@b,\"a@b\")\n"
   ]
  },
  {
   "cell_type": "code",
   "execution_count": 123,
   "metadata": {},
   "outputs": [
    {
     "name": "stdout",
     "output_type": "stream",
     "text": [
      "a:\n",
      "[[[ 0  1]\n",
      "  [ 2  3]\n",
      "  [ 4  5]]\n",
      "\n",
      " [[ 6  7]\n",
      "  [ 8  9]\n",
      "  [10 11]]\n",
      "\n",
      " [[12 13]\n",
      "  [14 15]\n",
      "  [16 17]]\n",
      "\n",
      " [[18 19]\n",
      "  [20 21]\n",
      "  [22 23]]]\n",
      "\n",
      "b:\n",
      "[[[1. 1. 1.]\n",
      "  [1. 1. 1.]]\n",
      "\n",
      " [[1. 1. 1.]\n",
      "  [1. 1. 1.]]\n",
      "\n",
      " [[1. 1. 1.]\n",
      "  [1. 1. 1.]]\n",
      "\n",
      " [[1. 1. 1.]\n",
      "  [1. 1. 1.]]]\n",
      "\n"
     ]
    }
   ],
   "source": [
    "a = np.arange(24).reshape((4,3,2))\n",
    "b = np.ones((4,2,3))\n",
    "print_obj(a, \"a\")\n",
    "print_obj(b, \"b\")"
   ]
  },
  {
   "cell_type": "code",
   "execution_count": 127,
   "metadata": {},
   "outputs": [
    {
     "name": "stdout",
     "output_type": "stream",
     "text": [
      "a dot b:\n",
      "(4, 3, 4, 3)\n",
      "\n",
      "a@b:\n",
      "(4, 3, 3)\n",
      "\n",
      "a matmul b:\n",
      "(4, 3, 3)\n",
      "\n"
     ]
    }
   ],
   "source": [
    "print_obj(np.dot(a,b).shape,\"a dot b\")\n",
    "print_obj((a@b).shape,\"a@b\")\n",
    "print_obj(np.matmul(a,b).shape,\"a matmul b\")"
   ]
  },
  {
   "cell_type": "code",
   "execution_count": 128,
   "metadata": {},
   "outputs": [
    {
     "name": "stdout",
     "output_type": "stream",
     "text": [
      "a:\n",
      "[[[ 0  1]\n",
      "  [ 2  3]\n",
      "  [ 4  5]]\n",
      "\n",
      " [[ 6  7]\n",
      "  [ 8  9]\n",
      "  [10 11]]\n",
      "\n",
      " [[12 13]\n",
      "  [14 15]\n",
      "  [16 17]]\n",
      "\n",
      " [[18 19]\n",
      "  [20 21]\n",
      "  [22 23]]]\n",
      "\n",
      "b:\n",
      "[[1. 1. 1.]\n",
      " [1. 1. 1.]]\n",
      "\n"
     ]
    }
   ],
   "source": [
    "a = np.arange(24).reshape((4,3,2))\n",
    "b = np.ones((2,3))\n",
    "print_obj(a, \"a\")\n",
    "print_obj(b, \"b\")"
   ]
  },
  {
   "cell_type": "code",
   "execution_count": 130,
   "metadata": {},
   "outputs": [
    {
     "name": "stdout",
     "output_type": "stream",
     "text": [
      "a dot b:\n",
      "[[[ 1.  1.  1.]\n",
      "  [ 5.  5.  5.]\n",
      "  [ 9.  9.  9.]]\n",
      "\n",
      " [[13. 13. 13.]\n",
      "  [17. 17. 17.]\n",
      "  [21. 21. 21.]]\n",
      "\n",
      " [[25. 25. 25.]\n",
      "  [29. 29. 29.]\n",
      "  [33. 33. 33.]]\n",
      "\n",
      " [[37. 37. 37.]\n",
      "  [41. 41. 41.]\n",
      "  [45. 45. 45.]]]\n",
      "\n"
     ]
    }
   ],
   "source": [
    "print_obj(np.dot(a,b),\"a dot b\")"
   ]
  },
  {
   "cell_type": "code",
   "execution_count": 131,
   "metadata": {},
   "outputs": [
    {
     "name": "stdout",
     "output_type": "stream",
     "text": [
      "a@b:\n",
      "[[[ 1.  1.  1.]\n",
      "  [ 5.  5.  5.]\n",
      "  [ 9.  9.  9.]]\n",
      "\n",
      " [[13. 13. 13.]\n",
      "  [17. 17. 17.]\n",
      "  [21. 21. 21.]]\n",
      "\n",
      " [[25. 25. 25.]\n",
      "  [29. 29. 29.]\n",
      "  [33. 33. 33.]]\n",
      "\n",
      " [[37. 37. 37.]\n",
      "  [41. 41. 41.]\n",
      "  [45. 45. 45.]]]\n",
      "\n"
     ]
    }
   ],
   "source": [
    "print_obj((a@b),\"a@b\")"
   ]
  },
  {
   "cell_type": "code",
   "execution_count": 140,
   "metadata": {},
   "outputs": [
    {
     "name": "stdout",
     "output_type": "stream",
     "text": [
      "a:\n",
      "[[[ 0  1  2  3]\n",
      "  [ 4  5  6  7]\n",
      "  [ 8  9 10 11]]\n",
      "\n",
      " [[12 13 14 15]\n",
      "  [16 17 18 19]\n",
      "  [20 21 22 23]]]\n",
      "\n",
      "b:\n",
      "[[ 0  1  2  3]\n",
      " [ 4  5  6  7]\n",
      " [ 8  9 10 11]\n",
      " [12 13 14 15]\n",
      " [16 17 18 19]\n",
      " [20 21 22 23]]\n",
      "\n",
      "c:\n",
      "[[ 0  1  2  3]\n",
      " [ 4  5  6  7]\n",
      " [ 8  9 10 11]\n",
      " [12 13 14 15]\n",
      " [16 17 18 19]\n",
      " [20 21 22 23]]\n",
      "\n"
     ]
    }
   ],
   "source": [
    "a = np.arange(24).reshape((2,3,4))\n",
    "print_obj(a,\"a\")\n",
    "\n",
    "b = a.reshape((6,4))\n",
    "print_obj(b, \"b\")\n",
    "\n",
    "c = a.reshape((6,-1))\n",
    "print_obj(c,\"c\")"
   ]
  },
  {
   "cell_type": "code",
   "execution_count": 136,
   "metadata": {},
   "outputs": [
    {
     "name": "stdout",
     "output_type": "stream",
     "text": [
      "d:\n",
      "[[[ 0]\n",
      "  [ 1]\n",
      "  [ 2]\n",
      "  [ 3]]\n",
      "\n",
      " [[ 4]\n",
      "  [ 5]\n",
      "  [ 6]\n",
      "  [ 7]]\n",
      "\n",
      " [[ 8]\n",
      "  [ 9]\n",
      "  [10]\n",
      "  [11]]\n",
      "\n",
      " [[12]\n",
      "  [13]\n",
      "  [14]\n",
      "  [15]]\n",
      "\n",
      " [[16]\n",
      "  [17]\n",
      "  [18]\n",
      "  [19]]\n",
      "\n",
      " [[20]\n",
      "  [21]\n",
      "  [22]\n",
      "  [23]]]\n",
      "\n"
     ]
    }
   ],
   "source": [
    "d = a.reshape((6,4,-1))\n",
    "print_obj(d,\"d\")"
   ]
  },
  {
   "cell_type": "code",
   "execution_count": 141,
   "metadata": {},
   "outputs": [
    {
     "name": "stdout",
     "output_type": "stream",
     "text": [
      "a:\n",
      "[0 1 2]\n",
      "\n"
     ]
    }
   ],
   "source": [
    "a = np.arange(3)\n",
    "print_obj(a, \"a\")"
   ]
  },
  {
   "cell_type": "code",
   "execution_count": 151,
   "metadata": {},
   "outputs": [
    {
     "name": "stdout",
     "output_type": "stream",
     "text": [
      "a:\n",
      "[[[1. 1. 1. 1.]]\n",
      "\n",
      " [[1. 1. 1. 1.]]\n",
      "\n",
      " [[1. 1. 1. 1.]]]\n",
      "\n",
      "a:\n",
      "(3, 1, 4)\n",
      "\n"
     ]
    }
   ],
   "source": [
    "print_obj(a[:,None],\"a\")\n",
    "print_obj(a[:,None].shape,\"a\")"
   ]
  },
  {
   "cell_type": "code",
   "execution_count": 153,
   "metadata": {},
   "outputs": [
    {
     "name": "stdout",
     "output_type": "stream",
     "text": [
      "a:\n",
      "[[[[1. 1. 1. 1.]]]\n",
      "\n",
      "\n",
      " [[[1. 1. 1. 1.]]]\n",
      "\n",
      "\n",
      " [[[1. 1. 1. 1.]]]]\n",
      "\n",
      "a:\n",
      "(3, 1, 1, 4)\n",
      "\n"
     ]
    }
   ],
   "source": [
    "a = np.ones((3,4))\n",
    "print_obj(a[:,None,None],\"a\")\n",
    "print_obj(a[:,None,None].shape,\"a\")"
   ]
  },
  {
   "cell_type": "code",
   "execution_count": 154,
   "metadata": {},
   "outputs": [
    {
     "name": "stdout",
     "output_type": "stream",
     "text": [
      "a:\n",
      "[[1. 1.]\n",
      " [1. 1.]\n",
      " [1. 1.]]\n",
      "\n",
      "b:\n",
      "[[0. 0.]\n",
      " [0. 0.]\n",
      " [0. 0.]]\n",
      "\n"
     ]
    }
   ],
   "source": [
    "a = np.ones((3,2))\n",
    "b = np.zeros((3,2))\n",
    "print_obj(a,\"a\")\n",
    "print_obj(b,\"b\")"
   ]
  },
  {
   "cell_type": "code",
   "execution_count": 155,
   "metadata": {},
   "outputs": [
    {
     "name": "stdout",
     "output_type": "stream",
     "text": [
      "a,b vstack:\n",
      "[[1. 1.]\n",
      " [1. 1.]\n",
      " [1. 1.]\n",
      " [0. 0.]\n",
      " [0. 0.]\n",
      " [0. 0.]]\n",
      "\n",
      "a,b hstack:\n",
      "[[1. 1. 0. 0.]\n",
      " [1. 1. 0. 0.]\n",
      " [1. 1. 0. 0.]]\n",
      "\n",
      "a,b,a hstack:\n",
      "[[1. 1. 0. 0. 1. 1.]\n",
      " [1. 1. 0. 0. 1. 1.]\n",
      " [1. 1. 0. 0. 1. 1.]]\n",
      "\n"
     ]
    }
   ],
   "source": [
    "print_obj(np.vstack([a, b]), \"a,b vstack\")\n",
    "print_obj(np.hstack([a, b]), \"a,b hstack\")\n",
    "print_obj(np.hstack([a, b, a]), \"a,b,a hstack\")"
   ]
  },
  {
   "cell_type": "code",
   "execution_count": 156,
   "metadata": {},
   "outputs": [
    {
     "name": "stdout",
     "output_type": "stream",
     "text": [
      "a,b,a hstack:\n",
      "[[1. 1. 0. 0. 1. 1. 0. 0.]\n",
      " [1. 1. 0. 0. 1. 1. 0. 0.]\n",
      " [1. 1. 0. 0. 1. 1. 0. 0.]]\n",
      "\n"
     ]
    }
   ],
   "source": [
    "print_obj(np.hstack([a, b, a,b]), \"a,b,a hstack\")"
   ]
  },
  {
   "cell_type": "code",
   "execution_count": 157,
   "metadata": {},
   "outputs": [
    {
     "name": "stdout",
     "output_type": "stream",
     "text": [
      "a,b,a hstack:\n",
      "[[1. 1.]\n",
      " [1. 1.]\n",
      " [1. 1.]\n",
      " [0. 0.]\n",
      " [0. 0.]\n",
      " [0. 0.]\n",
      " [1. 1.]\n",
      " [1. 1.]\n",
      " [1. 1.]]\n",
      "\n"
     ]
    }
   ],
   "source": [
    "print_obj(np.vstack([a, b, a]), \"a,b,a hstack\")"
   ]
  },
  {
   "cell_type": "code",
   "execution_count": 158,
   "metadata": {},
   "outputs": [
    {
     "name": "stdout",
     "output_type": "stream",
     "text": [
      "a,b concat axis=0:\n",
      "[[1. 1.]\n",
      " [1. 1.]\n",
      " [1. 1.]\n",
      " [0. 0.]\n",
      " [0. 0.]\n",
      " [0. 0.]]\n",
      "\n",
      "a,b concat axis=1:\n",
      "[[1. 1. 0. 0.]\n",
      " [1. 1. 0. 0.]\n",
      " [1. 1. 0. 0.]]\n",
      "\n"
     ]
    }
   ],
   "source": [
    "print_obj(np.concatenate([a, b], axis=0), \"a,b concat axis=0\")\n",
    "print_obj(np.concatenate([a, b], axis=1), \"a,b concat axis=1\")"
   ]
  },
  {
   "cell_type": "code",
   "execution_count": 160,
   "metadata": {},
   "outputs": [
    {
     "name": "stdout",
     "output_type": "stream",
     "text": [
      "c:\n",
      "[[[1. 1.]\n",
      "  [1. 1.]\n",
      "  [1. 1.]]\n",
      "\n",
      " [[1. 1.]\n",
      "  [1. 1.]\n",
      "  [1. 1.]]\n",
      "\n",
      " [[1. 1.]\n",
      "  [1. 1.]\n",
      "  [1. 1.]]\n",
      "\n",
      " [[1. 1.]\n",
      "  [1. 1.]\n",
      "  [1. 1.]]]\n",
      "\n",
      "d:\n",
      "[[[0. 0.]\n",
      "  [0. 0.]\n",
      "  [0. 0.]\n",
      "  [0. 0.]]\n",
      "\n",
      " [[0. 0.]\n",
      "  [0. 0.]\n",
      "  [0. 0.]\n",
      "  [0. 0.]]\n",
      "\n",
      " [[0. 0.]\n",
      "  [0. 0.]\n",
      "  [0. 0.]\n",
      "  [0. 0.]]\n",
      "\n",
      " [[0. 0.]\n",
      "  [0. 0.]\n",
      "  [0. 0.]\n",
      "  [0. 0.]]\n",
      "\n",
      " [[0. 0.]\n",
      "  [0. 0.]\n",
      "  [0. 0.]\n",
      "  [0. 0.]]]\n",
      "\n"
     ]
    }
   ],
   "source": [
    " c = np.ones((4,3,2))\n",
    " d = np.zeros((5,4,2))\n",
    "\n",
    " print_obj(c,\"c\")\n",
    " print_obj(d,\"d\")"
   ]
  },
  {
   "cell_type": "code",
   "execution_count": 165,
   "metadata": {},
   "outputs": [
    {
     "ename": "AxisError",
     "evalue": "axis 4 is out of bounds for array of dimension 3",
     "output_type": "error",
     "traceback": [
      "\u001b[0;31m---------------------------------------------------------------------------\u001b[0m",
      "\u001b[0;31mAxisError\u001b[0m                                 Traceback (most recent call last)",
      "\u001b[1;32m/Users/joohyunlee/VS_code/deep_learning_practice/practice1day.ipynb Cell 62'\u001b[0m in \u001b[0;36m<cell line: 1>\u001b[0;34m()\u001b[0m\n\u001b[0;32m----> <a href='vscode-notebook-cell:/Users/joohyunlee/VS_code/deep_learning_practice/practice1day.ipynb#ch0000061?line=0'>1</a>\u001b[0m \u001b[39mprint\u001b[39m(np\u001b[39m.\u001b[39;49mconcatenate([c,d],axis\u001b[39m=\u001b[39;49m\u001b[39m4\u001b[39;49m))\n",
      "File \u001b[0;32m<__array_function__ internals>:5\u001b[0m, in \u001b[0;36mconcatenate\u001b[0;34m(*args, **kwargs)\u001b[0m\n",
      "\u001b[0;31mAxisError\u001b[0m: axis 4 is out of bounds for array of dimension 3"
     ]
    }
   ],
   "source": [
    "print(np.concatenate([c,d],axis=4))"
   ]
  },
  {
   "cell_type": "code",
   "execution_count": 166,
   "metadata": {},
   "outputs": [
    {
     "ename": "ValueError",
     "evalue": "all the input array dimensions for the concatenation axis must match exactly, but along dimension 1, the array at index 0 has size 3 and the array at index 1 has size 4",
     "output_type": "error",
     "traceback": [
      "\u001b[0;31m---------------------------------------------------------------------------\u001b[0m",
      "\u001b[0;31mValueError\u001b[0m                                Traceback (most recent call last)",
      "\u001b[1;32m/Users/joohyunlee/VS_code/deep_learning_practice/practice1day.ipynb Cell 63'\u001b[0m in \u001b[0;36m<cell line: 1>\u001b[0;34m()\u001b[0m\n\u001b[0;32m----> <a href='vscode-notebook-cell:/Users/joohyunlee/VS_code/deep_learning_practice/practice1day.ipynb#ch0000062?line=0'>1</a>\u001b[0m print_obj(np\u001b[39m.\u001b[39;49mvstack([c,d]), \u001b[39m\"\u001b[39m\u001b[39mc,d hstack\u001b[39m\u001b[39m\"\u001b[39m)\n",
      "File \u001b[0;32m<__array_function__ internals>:5\u001b[0m, in \u001b[0;36mvstack\u001b[0;34m(*args, **kwargs)\u001b[0m\n",
      "File \u001b[0;32m/opt/anaconda3/envs/vedadet/lib/python3.8/site-packages/numpy/core/shape_base.py:282\u001b[0m, in \u001b[0;36mvstack\u001b[0;34m(tup)\u001b[0m\n\u001b[1;32m    <a href='file:///opt/anaconda3/envs/vedadet/lib/python3.8/site-packages/numpy/core/shape_base.py?line=279'>280</a>\u001b[0m \u001b[39mif\u001b[39;00m \u001b[39mnot\u001b[39;00m \u001b[39misinstance\u001b[39m(arrs, \u001b[39mlist\u001b[39m):\n\u001b[1;32m    <a href='file:///opt/anaconda3/envs/vedadet/lib/python3.8/site-packages/numpy/core/shape_base.py?line=280'>281</a>\u001b[0m     arrs \u001b[39m=\u001b[39m [arrs]\n\u001b[0;32m--> <a href='file:///opt/anaconda3/envs/vedadet/lib/python3.8/site-packages/numpy/core/shape_base.py?line=281'>282</a>\u001b[0m \u001b[39mreturn\u001b[39;00m _nx\u001b[39m.\u001b[39;49mconcatenate(arrs, \u001b[39m0\u001b[39;49m)\n",
      "File \u001b[0;32m<__array_function__ internals>:5\u001b[0m, in \u001b[0;36mconcatenate\u001b[0;34m(*args, **kwargs)\u001b[0m\n",
      "\u001b[0;31mValueError\u001b[0m: all the input array dimensions for the concatenation axis must match exactly, but along dimension 1, the array at index 0 has size 3 and the array at index 1 has size 4"
     ]
    }
   ],
   "source": [
    "print_obj(np.vstack([c,d]), \"c,d hstack\")"
   ]
  },
  {
   "cell_type": "code",
   "execution_count": 168,
   "metadata": {},
   "outputs": [
    {
     "name": "stdout",
     "output_type": "stream",
     "text": [
      "a:\n",
      "[[0 1]\n",
      " [2 3]\n",
      " [4 5]]\n",
      "\n",
      "a.T:\n",
      "[[0 2 4]\n",
      " [1 3 5]]\n",
      "\n"
     ]
    }
   ],
   "source": [
    "a = np.arange(6).reshape((3,2))\n",
    "print_obj(a,\"a\")\n",
    "\n",
    "print_obj(a.T,\"a.T\")"
   ]
  },
  {
   "cell_type": "code",
   "execution_count": 170,
   "metadata": {},
   "outputs": [
    {
     "name": "stdout",
     "output_type": "stream",
     "text": [
      "a:\n",
      "[[[ 0  1]\n",
      "  [ 2  3]\n",
      "  [ 4  5]]\n",
      "\n",
      " [[ 6  7]\n",
      "  [ 8  9]\n",
      "  [10 11]]\n",
      "\n",
      " [[12 13]\n",
      "  [14 15]\n",
      "  [16 17]]\n",
      "\n",
      " [[18 19]\n",
      "  [20 21]\n",
      "  [22 23]]]\n",
      "\n"
     ]
    }
   ],
   "source": [
    "a = np.arange(24).reshape((4, 3, 2))\n",
    "print_obj(a, \"a\")\n"
   ]
  },
  {
   "cell_type": "code",
   "execution_count": 171,
   "metadata": {},
   "outputs": [
    {
     "name": "stdout",
     "output_type": "stream",
     "text": [
      "Swap axis 1 and 2:\n",
      "[[[ 0  2  4]\n",
      "  [ 1  3  5]]\n",
      "\n",
      " [[ 6  8 10]\n",
      "  [ 7  9 11]]\n",
      "\n",
      " [[12 14 16]\n",
      "  [13 15 17]]\n",
      "\n",
      " [[18 20 22]\n",
      "  [19 21 23]]]\n",
      "\n",
      "b's shape:\n",
      "(4, 2, 3)\n",
      "\n"
     ]
    }
   ],
   "source": [
    "b = np.transpose(a, [0, 2, 1])\n",
    "print_obj(b, \"Swap axis 1 and 2\")\n",
    "print_obj(b.shape, \"b's shape\")\n"
   ]
  },
  {
   "cell_type": "code",
   "execution_count": 172,
   "metadata": {},
   "outputs": [
    {
     "name": "stdout",
     "output_type": "stream",
     "text": [
      "Swap axis 0 and 1:\n",
      "[[[ 0  1]\n",
      "  [ 6  7]\n",
      "  [12 13]\n",
      "  [18 19]]\n",
      "\n",
      " [[ 2  3]\n",
      "  [ 8  9]\n",
      "  [14 15]\n",
      "  [20 21]]\n",
      "\n",
      " [[ 4  5]\n",
      "  [10 11]\n",
      "  [16 17]\n",
      "  [22 23]]]\n",
      "\n",
      "c's shape:\n",
      "(3, 4, 2)\n",
      "\n"
     ]
    }
   ],
   "source": [
    "\n",
    "c = np.transpose(a, [1, 0, 2])\n",
    "print_obj(c, \"Swap axis 0 and 1\")\n",
    "print_obj(c.shape, \"c's shape\")"
   ]
  },
  {
   "cell_type": "code",
   "execution_count": 173,
   "metadata": {},
   "outputs": [
    {
     "name": "stdout",
     "output_type": "stream",
     "text": [
      "d:\n",
      "[[[ 0  1]\n",
      "  [ 2  3]\n",
      "  [ 4  5]]\n",
      "\n",
      " [[ 6  7]\n",
      "  [ 8  9]\n",
      "  [10 11]]\n",
      "\n",
      " [[12 13]\n",
      "  [14 15]\n",
      "  [16 17]]\n",
      "\n",
      " [[18 19]\n",
      "  [20 21]\n",
      "  [22 23]]]\n",
      "\n",
      "d's shape:\n",
      "(4, 3, 2)\n",
      "\n"
     ]
    }
   ],
   "source": [
    "d = np.transpose(a, [0, 1, 2])\n",
    "print_obj(d, \"d\")\n",
    "print_obj(d.shape, \"d's shape\")"
   ]
  },
  {
   "cell_type": "code",
   "execution_count": 175,
   "metadata": {},
   "outputs": [
    {
     "name": "stdout",
     "output_type": "stream",
     "text": [
      "a:\n",
      "[0 1 2]\n",
      "\n",
      "b:\n",
      "[2.]\n",
      "\n"
     ]
    }
   ],
   "source": [
    "a = np.arange(3)\n",
    "b = 2.\n",
    "b = np.array([2.])\n",
    "print_obj(a,\"a\")\n",
    "print_obj(b,\"b\")"
   ]
  },
  {
   "cell_type": "code",
   "execution_count": 176,
   "metadata": {},
   "outputs": [
    {
     "name": "stdout",
     "output_type": "stream",
     "text": [
      "a+b:\n",
      "[2. 3. 4.]\n",
      "\n",
      "a-b:\n",
      "[-2. -1.  0.]\n",
      "\n",
      "a*b:\n",
      "[0. 2. 4.]\n",
      "\n",
      "a/b:\n",
      "[0.  0.5 1. ]\n",
      "\n"
     ]
    }
   ],
   "source": [
    "print_obj(a+b, \"a+b\")\n",
    "print_obj(a-b, \"a-b\")\n",
    "print_obj(a*b, \"a*b\")\n",
    "print_obj(a/b, \"a/b\")"
   ]
  },
  {
   "cell_type": "code",
   "execution_count": 177,
   "metadata": {},
   "outputs": [
    {
     "name": "stdout",
     "output_type": "stream",
     "text": [
      "a:\n",
      "[[0 1]\n",
      " [2 3]\n",
      " [4 5]]\n",
      "\n",
      "b:\n",
      "[1 2]\n",
      "\n"
     ]
    }
   ],
   "source": [
    "# Matrix and vector\n",
    "a = np.arange(6).reshape((3,2))\n",
    "b = np.arange(2).reshape(2) + 1\n",
    "print_obj(a, \"a\")\n",
    "print_obj(b, \"b\")"
   ]
  },
  {
   "cell_type": "code",
   "execution_count": 178,
   "metadata": {},
   "outputs": [
    {
     "name": "stdout",
     "output_type": "stream",
     "text": [
      "1\n",
      "(2,)\n"
     ]
    }
   ],
   "source": [
    "print(b.ndim)\n",
    "print(b.shape)"
   ]
  },
  {
   "cell_type": "code",
   "execution_count": 179,
   "metadata": {},
   "outputs": [
    {
     "name": "stdout",
     "output_type": "stream",
     "text": [
      "a+b:\n",
      "[[[1 3]\n",
      "  [3 5]\n",
      "  [5 7]]]\n",
      "\n"
     ]
    }
   ],
   "source": [
    "b = b.reshape(1, 2)\n",
    "b = b[None, :]\n",
    "  \n",
    "print_obj(a+b, \"a+b\")"
   ]
  },
  {
   "cell_type": "code",
   "execution_count": 180,
   "metadata": {},
   "outputs": [],
   "source": [
    "c = np.arange(2).reshape((2,1))\n",
    "d = np.arange(2).reshape((1,2))"
   ]
  },
  {
   "cell_type": "code",
   "execution_count": 181,
   "metadata": {},
   "outputs": [
    {
     "name": "stdout",
     "output_type": "stream",
     "text": [
      "[[0]\n",
      " [1]]\n"
     ]
    }
   ],
   "source": [
    "print(c)"
   ]
  },
  {
   "cell_type": "code",
   "execution_count": 182,
   "metadata": {},
   "outputs": [
    {
     "name": "stdout",
     "output_type": "stream",
     "text": [
      "[[0 1]]\n"
     ]
    }
   ],
   "source": [
    "print(d)"
   ]
  },
  {
   "cell_type": "code",
   "execution_count": 183,
   "metadata": {},
   "outputs": [
    {
     "ename": "ValueError",
     "evalue": "operands could not be broadcast together with shapes (3,2) (2,1) ",
     "output_type": "error",
     "traceback": [
      "\u001b[0;31m---------------------------------------------------------------------------\u001b[0m",
      "\u001b[0;31mValueError\u001b[0m                                Traceback (most recent call last)",
      "\u001b[1;32m/Users/joohyunlee/VS_code/deep_learning_practice/practice1day.ipynb Cell 77'\u001b[0m in \u001b[0;36m<cell line: 1>\u001b[0;34m()\u001b[0m\n\u001b[0;32m----> <a href='vscode-notebook-cell:/Users/joohyunlee/VS_code/deep_learning_practice/practice1day.ipynb#ch0000076?line=0'>1</a>\u001b[0m print_obj(a\u001b[39m+\u001b[39;49mc, \u001b[39m\"\u001b[39m\u001b[39ma+c\u001b[39m\u001b[39m\"\u001b[39m)\n",
      "\u001b[0;31mValueError\u001b[0m: operands could not be broadcast together with shapes (3,2) (2,1) "
     ]
    }
   ],
   "source": [
    "print_obj(a+c, \"a+c\")"
   ]
  },
  {
   "cell_type": "code",
   "execution_count": 184,
   "metadata": {},
   "outputs": [
    {
     "name": "stdout",
     "output_type": "stream",
     "text": [
      "a+d:\n",
      "[[0 2]\n",
      " [2 4]\n",
      " [4 6]]\n",
      "\n"
     ]
    }
   ],
   "source": [
    "print_obj(a+d, \"a+d\")"
   ]
  },
  {
   "cell_type": "code",
   "execution_count": 185,
   "metadata": {},
   "outputs": [
    {
     "name": "stdout",
     "output_type": "stream",
     "text": [
      "a:\n",
      "[[[ 0  1]\n",
      "  [ 2  3]\n",
      "  [ 4  5]]\n",
      "\n",
      " [[ 6  7]\n",
      "  [ 8  9]\n",
      "  [10 11]]]\n",
      "\n",
      "b:\n",
      "[[0 1]\n",
      " [2 3]\n",
      " [4 5]]\n",
      "\n"
     ]
    }
   ],
   "source": [
    "a = np.arange(12).reshape((2,3,2))\n",
    "b = np.arange(6).reshape((3,2))\n",
    "print_obj(a, \"a\")\n",
    "print_obj(b, \"b\")"
   ]
  },
  {
   "cell_type": "code",
   "execution_count": 186,
   "metadata": {},
   "outputs": [
    {
     "name": "stdout",
     "output_type": "stream",
     "text": [
      "a+b:\n",
      "[[[ 0  2]\n",
      "  [ 4  6]\n",
      "  [ 8 10]]\n",
      "\n",
      " [[ 6  8]\n",
      "  [10 12]\n",
      "  [14 16]]]\n",
      "\n"
     ]
    }
   ],
   "source": [
    "print_obj(a+b, \"a+b\")"
   ]
  },
  {
   "cell_type": "code",
   "execution_count": 187,
   "metadata": {},
   "outputs": [
    {
     "name": "stdout",
     "output_type": "stream",
     "text": [
      "[[[ 0  2]\n",
      "  [ 4  6]\n",
      "  [ 8 10]]\n",
      "\n",
      " [[ 6  8]\n",
      "  [10 12]\n",
      "  [14 16]]]\n"
     ]
    }
   ],
   "source": [
    "print(a + b[None])"
   ]
  },
  {
   "cell_type": "code",
   "execution_count": null,
   "metadata": {},
   "outputs": [],
   "source": []
  }
 ],
 "metadata": {
  "interpreter": {
   "hash": "31f2aee4e71d21fbe5cf8b01ff0e069b9275f58929596ceb00d14d90e3e16cd6"
  },
  "kernelspec": {
   "display_name": "Python 3.8.9 64-bit",
   "language": "python",
   "name": "python3"
  },
  "language_info": {
   "codemirror_mode": {
    "name": "ipython",
    "version": 3
   },
   "file_extension": ".py",
   "mimetype": "text/x-python",
   "name": "python",
   "nbconvert_exporter": "python",
   "pygments_lexer": "ipython3",
   "version": "3.8.5"
  },
  "orig_nbformat": 4
 },
 "nbformat": 4,
 "nbformat_minor": 2
}
